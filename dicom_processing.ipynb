{
 "cells": [
  {
   "cell_type": "markdown",
   "metadata": {},
   "source": [
    "The purpose of this file is to center the raw dicom files, and export them as .npy files for faster processing.\n",
    "\n",
    "\n",
    "Many of the pre-existing functions were developed by José Eduardo Ubillús Alcivar from UT Austin.\n",
    "\n",
    "The user should know:\n",
    "\n",
    "1. x and y coordinates at the middle of the top end of the sample (in pixels)\n",
    "2. x and y coordinates at the middle of the bottom end of the sample (in pixels)\n",
    "3. file path to be written to"
   ]
  },
  {
   "cell_type": "code",
   "execution_count": null,
   "metadata": {},
   "outputs": [],
   "source": [
    "\n",
    "# Import Packages \n",
    "import readers_preprocessing as rp # Reading and preprocessing functions\n",
    "import plot_scans  as ps # Plotting functions\n",
    "import co2_postprocessing as co \n"
   ]
  },
  {
   "cell_type": "markdown",
   "metadata": {},
   "source": [
    "Specifications for the various folders are inputted below. For this example, the naming schemes take the form of \"Experiment_Date\". So, the list_folders() function parses the text string such that the date is removed. Additional documentation can be found in the readers_preprocessing.py file."
   ]
  },
  {
   "cell_type": "code",
   "execution_count": 1,
   "metadata": {},
   "outputs": [
    {
     "ename": "NameError",
     "evalue": "name 'rp' is not defined",
     "output_type": "error",
     "traceback": [
      "\u001b[0;31m---------------------------------------------------------------------------\u001b[0m",
      "\u001b[0;31mNameError\u001b[0m                                 Traceback (most recent call last)",
      "Cell \u001b[0;32mIn[1], line 13\u001b[0m\n\u001b[1;32m     10\u001b[0m \u001b[38;5;66;03m# Multiphase Flow Scans\u001b[39;00m\n\u001b[1;32m     12\u001b[0m scan_folder \u001b[38;5;241m=\u001b[39m \u001b[38;5;124m'\u001b[39m\u001b[38;5;124mq_010cc_min/\u001b[39m\u001b[38;5;124m'\u001b[39m\n\u001b[0;32m---> 13\u001b[0m scan_names \u001b[38;5;241m=\u001b[39m rp\u001b[38;5;241m.\u001b[39mlist_folders(main_folder\u001b[38;5;241m+\u001b[39mscan_folder,modified\u001b[38;5;241m=\u001b[39m\u001b[38;5;28;01mFalse\u001b[39;00m) \u001b[38;5;66;03m#takes off the dates for my naming scheme\u001b[39;00m\n\u001b[1;32m     14\u001b[0m adjusted_names \u001b[38;5;241m=\u001b[39m rp\u001b[38;5;241m.\u001b[39mlist_folders(main_folder\u001b[38;5;241m+\u001b[39mscan_folder,modified\u001b[38;5;241m=\u001b[39m\u001b[38;5;28;01mTrue\u001b[39;00m)\n\u001b[1;32m     16\u001b[0m \u001b[38;5;66;03m# Folder(s) to write out to:\u001b[39;00m\n",
      "\u001b[0;31mNameError\u001b[0m: name 'rp' is not defined"
     ]
    }
   ],
   "source": [
    "\n",
    "main_folder = '/Volumes/Zhou_1TB/UT Vertical CT Scanning/' #Main folder where all the scans are kept\n",
    "\n",
    "# Baseline scans\n",
    "\n",
    "baseline_folder = 'Baselines/'\n",
    "dry_scan = 'Vert_Dry_r2_r1/'\n",
    "brine_scan = 'Brine_1cc_r1/'\n",
    "gas_scan = 'Vert_N2_r2/'\n",
    "\n",
    "# Multiphase Flow Scans\n",
    "\n",
    "scan_folder = 'q_010cc_min/'\n",
    "scan_names = rp.list_folders(main_folder+scan_folder,modified=False) #takes off the dates for my naming scheme\n",
    "adjusted_names = rp.list_folders(main_folder+scan_folder,modified=True)\n",
    "\n",
    "# Folder(s) to write out to:\n",
    "\n",
    "baseline_npy_folder = 'Baseline Numpys/'\n",
    "scan_npy_folder = '010_cc Numpys/'"
   ]
  },
  {
   "cell_type": "markdown",
   "metadata": {},
   "source": [
    "Specifications for the centering coordinates are inputted below. The coordinates are in pixels, which is 4x the measurement in mm from ImageJ."
   ]
  },
  {
   "cell_type": "code",
   "execution_count": null,
   "metadata": {},
   "outputs": [],
   "source": [
    "topx, topy, botx, boty = 248, 284.5, 291, 242.5 #coordinates taken from ImageJ in pixels"
   ]
  },
  {
   "cell_type": "markdown",
   "metadata": {},
   "source": [
    "The following sections are the main code. The multiphase experiment scans are processed through the for loop.\n",
    "\n",
    "The baselines are done individually. For the baselines, you can edit the file name in the line where sdict is defined.\n"
   ]
  },
  {
   "cell_type": "markdown",
   "metadata": {},
   "source": [
    "\n"
   ]
  },
  {
   "cell_type": "code",
   "execution_count": null,
   "metadata": {},
   "outputs": [],
   "source": [
    "expdict={}\n",
    "for name in scan_names:\n",
    "    keyname = rp.get_text_before_second_underscore(name)\n",
    "    expdict[keyname]=rp.center_itk(rp.read_dicom(main_folder+scan_folder+name+'/'),botx,boty,topx,topy)\n",
    "\n",
    "# Read in the baseline scans --> apply centering and then store in dictionary\n",
    "\n",
    "dry = rp.center_itk(rp.read_dicom(main_folder+baseline_folder+dry_scan),botx,boty,topx,topy)\n",
    "brine = rp.center_itk(rp.read_dicom(main_folder+baseline_folder+brine_scan),botx,boty,topx,topy)\n",
    "gas = rp.center_itk(rp.read_dicom(main_folder+baseline_folder+gas_scan),botx,boty,topx,topy)\n",
    "\n",
    "sdict={'Dry':dry,'Brine':brine,'Gas':gas}"
   ]
  },
  {
   "cell_type": "markdown",
   "metadata": {},
   "source": [
    "Finally, after both dictionaries are populated, they are exported as numpy files.\n",
    "\n",
    "The save_slices_as_numpy() function was modified so that it will check and see if there are already existing numpy files in the folder. If there is no folder, the function will create a new folder to write to. The function will also output a summary of how many files were saved, and what files (if any) were skipped due to duplicates being present.\n"
   ]
  },
  {
   "cell_type": "code",
   "execution_count": null,
   "metadata": {},
   "outputs": [],
   "source": [
    "rp.save_slices_as_numpy(expdict,main_folder+scan_npy_folder)\n",
    "rp.save_slices_as_numpy(sdict,main_folder+baseline_npy_folder)\n",
    "\n",
    "\n",
    "print('Numpy files all saved. \\u2714')"
   ]
  }
 ],
 "metadata": {
  "kernelspec": {
   "display_name": "base",
   "language": "python",
   "name": "python3"
  },
  "language_info": {
   "codemirror_mode": {
    "name": "ipython",
    "version": 3
   },
   "file_extension": ".py",
   "mimetype": "text/x-python",
   "name": "python",
   "nbconvert_exporter": "python",
   "pygments_lexer": "ipython3",
   "version": "3.12.4"
  }
 },
 "nbformat": 4,
 "nbformat_minor": 2
}
